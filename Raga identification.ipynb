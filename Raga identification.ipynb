{
 "cells": [
  {
   "cell_type": "code",
   "execution_count": 89,
   "id": "1c2ebcef",
   "metadata": {},
   "outputs": [],
   "source": [
    "import matplotlib.pyplot as plt\n",
    "%matplotlib inline\n",
    "import librosa\n",
    "import librosa.display\n",
    "import IPython.display as ipd\n",
    "import numpy as np\n",
    "from keras.models import Sequential\n",
    "from keras.layers import Dense, Dropout, Conv1D, MaxPooling1D, Flatten, Reshape\n",
    "from keras.optimizers import Adam\n",
    "from keras.utils import to_categorical\n",
    "from sklearn.preprocessing import LabelEncoder\n",
    "from scipy.io import wavfile as wav\n",
    "import os\n",
    "import pandas as pd\n",
    "from datetime import datetime\n",
    "from keras.callbacks import ModelCheckpoint\n",
    "from sklearn.model_selection import train_test_split\n",
    "from keras import layers\n",
    "from keras.layers import Reshape"
   ]
  },
  {
   "cell_type": "code",
   "execution_count": 90,
   "id": "5ea1dd06",
   "metadata": {},
   "outputs": [],
   "source": [
    "def load_and_plot_audio(file_path):\n",
    "    data, sr = librosa.load(file_path)\n",
    "    ipd.Audio(file_path)\n",
    "    \n",
    "    plt.plot(data)\n",
    "    plt.xlabel('Audio Signal')\n",
    "    plt.ylabel('Amplitude')\n",
    "    plt.show()\n"
   ]
  },
  {
   "cell_type": "code",
   "execution_count": 91,
   "id": "c870fbf2",
   "metadata": {},
   "outputs": [],
   "source": [
    "def load_wavfile(file_path):\n",
    "    wavesr, wave_audio = wav.read(file_path)\n",
    "    plt.plot(wave_audio)\n",
    "    plt.show()\n",
    "    return wavesr, wave_audio"
   ]
  },
  {
   "cell_type": "code",
   "execution_count": 92,
   "id": "ea35b897",
   "metadata": {},
   "outputs": [],
   "source": [
    "def extract_features(file_path):\n",
    "    audio, sample_rate = librosa.load(file_path)\n",
    "    mfccs = librosa.feature.mfcc(y=audio, sr=sample_rate, n_mfcc=40)\n",
    "    mfccs_scaled_features = np.mean(mfccs.T, axis=0)\n",
    "    return mfccs_scaled_features\n"
   ]
  },
  {
   "cell_type": "code",
   "execution_count": 93,
   "id": "a64bc467",
   "metadata": {},
   "outputs": [],
   "source": [
    "def load_and_extract_features(folder_path):\n",
    "    name_file = [file for file in os.listdir(folder_path) if file.endswith('.wav')]\n",
    "    instruments = [name[:-6] for name in name_file]\n",
    "\n",
    "    extracted_features = []\n",
    "    for file_name in name_file:\n",
    "        file_path = os.path.join(folder_path, file_name)\n",
    "        features = extract_features(file_path)\n",
    "        file_name = file_name.title()\n",
    "        extracted_features.append([features, file_name[:-6]])\n",
    "\n",
    "    return extracted_features, instruments"
   ]
  },
  {
   "cell_type": "code",
   "execution_count": 94,
   "id": "180bbc78",
   "metadata": {},
   "outputs": [],
   "source": [
    "def prepare_data(extracted_features):\n",
    "    df_features = pd.DataFrame(extracted_features, columns=['feature', 'class'])\n",
    "    X = np.array(df_features['feature'].tolist())\n",
    "    y = np.array(df_features['class'].tolist())\n",
    "    \n",
    "    le = LabelEncoder()\n",
    "    ti = le.fit_transform(y)\n",
    "    y = to_categorical(ti)\n",
    "    \n",
    "    return X, y, le"
   ]
  },
  {
   "cell_type": "code",
   "execution_count": 95,
   "id": "675d2558",
   "metadata": {},
   "outputs": [],
   "source": [
    "def build_model(input_shape, num_labels):\n",
    "    model = Sequential()\n",
    "    model.add(Reshape((input_shape[0], 1), input_shape=input_shape))\n",
    "    model.add(Conv1D(32, kernel_size=5, activation='relu'))\n",
    "    model.add(MaxPooling1D(pool_size=1))\n",
    "    model.add(Conv1D(64, kernel_size=5, activation='relu'))\n",
    "    model.add(MaxPooling1D(pool_size=1))\n",
    "    model.add(Flatten())\n",
    "    model.add(Dense(128, activation='relu'))\n",
    "    model.add(Dropout(0.5))\n",
    "    model.add(Dense(num_labels, activation='softmax'))\n",
    "    \n",
    "    model.compile(optimizer='adam',\n",
    "                  loss='categorical_crossentropy',\n",
    "                  metrics=['accuracy'])\n",
    "\n",
    "    return model"
   ]
  },
  {
   "cell_type": "code",
   "execution_count": 96,
   "id": "379b9ea8",
   "metadata": {},
   "outputs": [],
   "source": [
    "def train_model(model, X_train, y_train, X_test, y_test, epochs=30, batch_size=4):\n",
    "    num_epochs = epochs\n",
    "    num_batch_size = batch_size\n",
    "    checkpointer = ModelCheckpoint(filepath='saved_model.hdf5', verbose=1, save_best_only=True)\n",
    "    start = datetime.now()\n",
    "    model.fit(X_train, y_train, batch_size=num_batch_size, epochs=num_epochs, validation_data=(X_test, y_test), verbose=1, callbacks=[checkpointer])\n",
    "    duration = datetime.now() - start\n",
    "    print(\"Training completed in time: \", duration)\n",
    "\n",
    "    test_accuracy = model.evaluate(X_test, y_test, verbose=0)\n",
    "    print(f\"Test set accuracy: {test_accuracy[1] * 100}%\")\n",
    "\n",
    "    train_accuracy = model.evaluate(X_train, y_train, verbose=0)\n",
    "    print(f\"Train set accuracy: {train_accuracy[1] * 100}%\")"
   ]
  },
  {
   "cell_type": "code",
   "execution_count": 97,
   "id": "f63edacb",
   "metadata": {},
   "outputs": [],
   "source": [
    "def predict_class(model, file_path, le):\n",
    "    x, sr = librosa.load(file_path)\n",
    "    ipd.Audio(x, rate=sr)\n",
    "\n",
    "    prediction_feature = extract_features(file_path)\n",
    "    prediction_feature = prediction_feature.reshape(1, -1)\n",
    "    predicted_probabilities = model.predict(prediction_feature)\n",
    "    predicted_class_label = np.argmax(predicted_probabilities)\n",
    "    predicted_class_label = np.array([predicted_class_label])\n",
    "    prediction_class = le.inverse_transform(predicted_class_label)\n",
    "    print(\"Predicted class:\", prediction_class[0])"
   ]
  },
  {
   "cell_type": "code",
   "execution_count": 98,
   "id": "22db4c55",
   "metadata": {},
   "outputs": [],
   "source": [
    "audio_file_path = \"Music/Bhairavi01.wav\""
   ]
  },
  {
   "cell_type": "code",
   "execution_count": 99,
   "id": "6f4aea0a",
   "metadata": {},
   "outputs": [
    {
     "data": {
      "image/png": "[encoded data removed]",
      "text/plain": [
       "<Figure size 640x480 with 1 Axes>"
      ]
     },
     "metadata": {},
     "output_type": "display_data"
    }
   ],
   "source": [
    "load_and_plot_audio(audio_file_path)"
   ]
  },
  {
   "cell_type": "code",
   "execution_count": 100,
   "id": "ea4c3f50",
   "metadata": {},
   "outputs": [
    {
     "data": {
      "image/png": "[encoded data removed]",
      "text/plain": [
       "<Figure size 640x480 with 1 Axes>"
      ]
     },
     "metadata": {},
     "output_type": "display_data"
    }
   ],
   "source": [
    "wavesr, wave_audio = load_wavfile(audio_file_path)"
   ]
  },
  {
   "cell_type": "code",
   "execution_count": 101,
   "id": "0b360005",
   "metadata": {},
   "outputs": [],
   "source": [
    "extracted_features, instruments = load_and_extract_features(\"Music\")"
   ]
  },
  {
   "cell_type": "code",
   "execution_count": 102,
   "id": "2edc10ca",
   "metadata": {},
   "outputs": [],
   "source": [
    "X, y, label_encoder = prepare_data(extracted_features)"
   ]
  },
  {
   "cell_type": "code",
   "execution_count": 103,
   "id": "2070b6fb",
   "metadata": {},
   "outputs": [],
   "source": [
    "input_shape = (X.shape[1],)"
   ]
  },
  {
   "cell_type": "code",
   "execution_count": 104,
   "id": "2250233b",
   "metadata": {},
   "outputs": [],
   "source": [
    "num_labels = y.shape[1]"
   ]
  },
  {
   "cell_type": "code",
   "execution_count": 105,
   "id": "dea38827",
   "metadata": {},
   "outputs": [],
   "source": [
    "model = build_model(input_shape, num_labels)"
   ]
  },
  {
   "cell_type": "code",
   "execution_count": 106,
   "id": "4732ae09",
   "metadata": {},
   "outputs": [
    {
     "name": "stdout",
     "output_type": "stream",
     "text": [
      "Epoch 1/30\n",
      "16/17 [===========================>..] - ETA: 0s - loss: 3.4914 - accuracy: 0.1094   \n",
      "Epoch 1: val_loss improved from inf to 2.02675, saving model to saved_model.hdf5\n",
      "17/17 [==============================] - 3s 43ms/step - loss: 3.4507 - accuracy: 0.1231 - val_loss: 2.0267 - val_accuracy: 0.2353\n",
      "Epoch 2/30\n",
      " 8/17 [=============>................] - ETA: 0s - loss: 2.2928 - accuracy: 0.2188    "
     ]
    },
    {
     "name": "stderr",
     "output_type": "stream",
     "text": [
      "C:\\Users\\Anikait\\anaconda3\\lib\\site-packages\\keras\\src\\engine\\training.py:3103: UserWarning: You are saving your model as an HDF5 file via `model.save()`. This file format is considered legacy. We recommend using instead the native Keras format, e.g. `model.save('my_model.keras')`.\n",
      "  saving_api.save_model(\n"
     ]
    },
    {
     "name": "stdout",
     "output_type": "stream",
     "text": [
      "16/17 [===========================>..] - ETA: 0s - loss: 2.0823 - accuracy: 0.2656\n",
      "Epoch 2: val_loss improved from 2.02675 to 1.70027, saving model to saved_model.hdf5\n",
      "17/17 [==============================] - 0s 18ms/step - loss: 2.0966 - accuracy: 0.2615 - val_loss: 1.7003 - val_accuracy: 0.4706\n",
      "Epoch 3/30\n",
      "16/17 [===========================>..] - ETA: 0s - loss: 1.3002 - accuracy: 0.5938\n",
      "Epoch 3: val_loss improved from 1.70027 to 1.51439, saving model to saved_model.hdf5\n",
      "17/17 [==============================] - 0s 18ms/step - loss: 1.3088 - accuracy: 0.5846 - val_loss: 1.5144 - val_accuracy: 0.5882\n",
      "Epoch 4/30\n",
      "16/17 [===========================>..] - ETA: 0s - loss: 1.2168 - accuracy: 0.6250\n",
      "Epoch 4: val_loss improved from 1.51439 to 1.18165, saving model to saved_model.hdf5\n",
      "17/17 [==============================] - 0s 19ms/step - loss: 1.1983 - accuracy: 0.6308 - val_loss: 1.1817 - val_accuracy: 0.5882\n",
      "Epoch 5/30\n",
      "16/17 [===========================>..] - ETA: 0s - loss: 0.9070 - accuracy: 0.7031\n",
      "Epoch 5: val_loss improved from 1.18165 to 1.06651, saving model to saved_model.hdf5\n",
      "17/17 [==============================] - 0s 17ms/step - loss: 0.8981 - accuracy: 0.7077 - val_loss: 1.0665 - val_accuracy: 0.5294\n",
      "Epoch 6/30\n",
      "16/17 [===========================>..] - ETA: 0s - loss: 0.6075 - accuracy: 0.8281\n",
      "Epoch 6: val_loss improved from 1.06651 to 0.82088, saving model to saved_model.hdf5\n",
      "17/17 [==============================] - 0s 18ms/step - loss: 0.6091 - accuracy: 0.8308 - val_loss: 0.8209 - val_accuracy: 0.7059\n",
      "Epoch 7/30\n",
      "17/17 [==============================] - ETA: 0s - loss: 0.5605 - accuracy: 0.8154\n",
      "Epoch 7: val_loss improved from 0.82088 to 0.76898, saving model to saved_model.hdf5\n",
      "17/17 [==============================] - 0s 17ms/step - loss: 0.5605 - accuracy: 0.8154 - val_loss: 0.7690 - val_accuracy: 0.7647\n",
      "Epoch 8/30\n",
      "16/17 [===========================>..] - ETA: 0s - loss: 0.3899 - accuracy: 0.9219\n",
      "Epoch 8: val_loss did not improve from 0.76898\n",
      "17/17 [==============================] - 0s 12ms/step - loss: 0.3844 - accuracy: 0.9231 - val_loss: 0.9962 - val_accuracy: 0.6471\n",
      "Epoch 9/30\n",
      "16/17 [===========================>..] - ETA: 0s - loss: 0.3391 - accuracy: 0.9062\n",
      "Epoch 9: val_loss improved from 0.76898 to 0.68500, saving model to saved_model.hdf5\n",
      "17/17 [==============================] - 0s 19ms/step - loss: 0.3399 - accuracy: 0.9077 - val_loss: 0.6850 - val_accuracy: 0.7059\n",
      "Epoch 10/30\n",
      "14/17 [=======================>......] - ETA: 0s - loss: 0.3138 - accuracy: 0.8929\n",
      "Epoch 10: val_loss did not improve from 0.68500\n",
      "17/17 [==============================] - 0s 13ms/step - loss: 0.2992 - accuracy: 0.8923 - val_loss: 0.7086 - val_accuracy: 0.7647\n",
      "Epoch 11/30\n",
      "16/17 [===========================>..] - ETA: 0s - loss: 0.2450 - accuracy: 0.9062\n",
      "Epoch 11: val_loss improved from 0.68500 to 0.57406, saving model to saved_model.hdf5\n",
      "17/17 [==============================] - 0s 20ms/step - loss: 0.2454 - accuracy: 0.9077 - val_loss: 0.5741 - val_accuracy: 0.8824\n",
      "Epoch 12/30\n",
      "15/17 [=========================>....] - ETA: 0s - loss: 0.2209 - accuracy: 0.9333\n",
      "Epoch 12: val_loss did not improve from 0.57406\n",
      "17/17 [==============================] - 0s 13ms/step - loss: 0.2635 - accuracy: 0.9231 - val_loss: 0.6501 - val_accuracy: 0.7647\n",
      "Epoch 13/30\n",
      "16/17 [===========================>..] - ETA: 0s - loss: 0.2551 - accuracy: 0.9062\n",
      "Epoch 13: val_loss did not improve from 0.57406\n",
      "17/17 [==============================] - 0s 13ms/step - loss: 0.2535 - accuracy: 0.9077 - val_loss: 0.6443 - val_accuracy: 0.7647\n",
      "Epoch 14/30\n",
      "16/17 [===========================>..] - ETA: 0s - loss: 0.2685 - accuracy: 0.9219\n",
      "Epoch 14: val_loss did not improve from 0.57406\n",
      "17/17 [==============================] - 0s 13ms/step - loss: 0.2651 - accuracy: 0.9231 - val_loss: 0.6906 - val_accuracy: 0.7647\n",
      "Epoch 15/30\n",
      "17/17 [==============================] - ETA: 0s - loss: 0.1428 - accuracy: 0.9538\n",
      "Epoch 15: val_loss improved from 0.57406 to 0.45868, saving model to saved_model.hdf5\n",
      "17/17 [==============================] - 0s 20ms/step - loss: 0.1428 - accuracy: 0.9538 - val_loss: 0.4587 - val_accuracy: 0.8824\n",
      "Epoch 16/30\n",
      "16/17 [===========================>..] - ETA: 0s - loss: 0.2195 - accuracy: 0.9219\n",
      "Epoch 16: val_loss did not improve from 0.45868\n",
      "17/17 [==============================] - 0s 12ms/step - loss: 0.2174 - accuracy: 0.9231 - val_loss: 0.5316 - val_accuracy: 0.8824\n",
      "Epoch 17/30\n",
      "14/17 [=======================>......] - ETA: 0s - loss: 0.1899 - accuracy: 0.9464\n",
      "Epoch 17: val_loss improved from 0.45868 to 0.38880, saving model to saved_model.hdf5\n",
      "17/17 [==============================] - 0s 22ms/step - loss: 0.1742 - accuracy: 0.9538 - val_loss: 0.3888 - val_accuracy: 0.8824\n",
      "Epoch 18/30\n",
      "16/17 [===========================>..] - ETA: 0s - loss: 0.2284 - accuracy: 0.9219\n",
      "Epoch 18: val_loss did not improve from 0.38880\n",
      "17/17 [==============================] - 0s 13ms/step - loss: 0.2249 - accuracy: 0.9231 - val_loss: 0.7440 - val_accuracy: 0.7647\n",
      "Epoch 19/30\n",
      "15/17 [=========================>....] - ETA: 0s - loss: 0.1279 - accuracy: 0.9500\n",
      "Epoch 19: val_loss did not improve from 0.38880\n",
      "17/17 [==============================] - 0s 12ms/step - loss: 0.1257 - accuracy: 0.9538 - val_loss: 0.6024 - val_accuracy: 0.8824\n",
      "Epoch 20/30\n",
      "15/17 [=========================>....] - ETA: 0s - loss: 0.1590 - accuracy: 0.9500\n",
      "Epoch 20: val_loss did not improve from 0.38880\n",
      "17/17 [==============================] - 0s 12ms/step - loss: 0.1637 - accuracy: 0.9538 - val_loss: 0.6286 - val_accuracy: 0.8824\n",
      "Epoch 21/30\n",
      "15/17 [=========================>....] - ETA: 0s - loss: 0.0679 - accuracy: 1.0000\n",
      "Epoch 21: val_loss did not improve from 0.38880\n",
      "17/17 [==============================] - 0s 13ms/step - loss: 0.0717 - accuracy: 1.0000 - val_loss: 0.6044 - val_accuracy: 0.8235\n",
      "Epoch 22/30\n",
      " 9/17 [==============>...............] - ETA: 0s - loss: 0.1368 - accuracy: 0.9444\n",
      "Epoch 22: val_loss did not improve from 0.38880\n",
      "17/17 [==============================] - 0s 12ms/step - loss: 0.1512 - accuracy: 0.9385 - val_loss: 0.6742 - val_accuracy: 0.8824\n",
      "Epoch 23/30\n",
      "16/17 [===========================>..] - ETA: 0s - loss: 0.1052 - accuracy: 0.9531\n",
      "Epoch 23: val_loss did not improve from 0.38880\n",
      "17/17 [==============================] - 0s 12ms/step - loss: 0.1302 - accuracy: 0.9385 - val_loss: 0.5061 - val_accuracy: 0.8824\n",
      "Epoch 24/30\n",
      "16/17 [===========================>..] - ETA: 0s - loss: 0.0716 - accuracy: 1.0000\n",
      "Epoch 24: val_loss improved from 0.38880 to 0.34048, saving model to saved_model.hdf5\n",
      "17/17 [==============================] - 0s 17ms/step - loss: 0.0804 - accuracy: 1.0000 - val_loss: 0.3405 - val_accuracy: 0.9412\n",
      "Epoch 25/30\n",
      "16/17 [===========================>..] - ETA: 0s - loss: 0.0557 - accuracy: 0.9844\n",
      "Epoch 25: val_loss did not improve from 0.34048\n",
      "17/17 [==============================] - 0s 12ms/step - loss: 0.0548 - accuracy: 0.9846 - val_loss: 0.6672 - val_accuracy: 0.9412\n",
      "Epoch 26/30\n",
      "15/17 [=========================>....] - ETA: 0s - loss: 0.1227 - accuracy: 0.9500\n",
      "Epoch 26: val_loss did not improve from 0.34048\n",
      "17/17 [==============================] - 0s 13ms/step - loss: 0.1188 - accuracy: 0.9538 - val_loss: 0.6002 - val_accuracy: 0.8824\n",
      "Epoch 27/30\n",
      "16/17 [===========================>..] - ETA: 0s - loss: 0.0895 - accuracy: 0.9531\n",
      "Epoch 27: val_loss did not improve from 0.34048\n",
      "17/17 [==============================] - 0s 12ms/step - loss: 0.0882 - accuracy: 0.9538 - val_loss: 0.7304 - val_accuracy: 0.8824\n",
      "Epoch 28/30\n",
      "17/17 [==============================] - ETA: 0s - loss: 0.1697 - accuracy: 0.9231\n",
      "Epoch 28: val_loss did not improve from 0.34048\n",
      "17/17 [==============================] - 0s 12ms/step - loss: 0.1697 - accuracy: 0.9231 - val_loss: 0.5171 - val_accuracy: 0.8235\n",
      "Epoch 29/30\n",
      "17/17 [==============================] - ETA: 0s - loss: 0.0879 - accuracy: 0.9846\n",
      "Epoch 29: val_loss did not improve from 0.34048\n",
      "17/17 [==============================] - 0s 12ms/step - loss: 0.0879 - accuracy: 0.9846 - val_loss: 0.7708 - val_accuracy: 0.7647\n",
      "Epoch 30/30\n",
      "17/17 [==============================] - ETA: 0s - loss: 0.1266 - accuracy: 0.9538\n",
      "Epoch 30: val_loss did not improve from 0.34048\n",
      "17/17 [==============================] - 0s 13ms/step - loss: 0.1266 - accuracy: 0.9538 - val_loss: 0.7744 - val_accuracy: 0.8824\n"
     ]
    },
    {
     "name": "stdout",
     "output_type": "stream",
     "text": [
      "Training completed in time:  0:00:09.951179\n",
      "Test set accuracy: 88.23529481887817%\n",
      "Train set accuracy: 100.0%\n"
     ]
    }
   ],
   "source": [
    "X_train, X_test, y_train, y_test = train_test_split(X, y, test_size=0.2, random_state=127)\n",
    "train_model(model, X_train, y_train, X_test, y_test)"
   ]
  },
  {
   "cell_type": "code",
   "execution_count": 107,
   "id": "ce592969",
   "metadata": {},
   "outputs": [],
   "source": [
    "audio_to_predict = \"Music/Bhairavi02.wav\""
   ]
  },
  {
   "cell_type": "code",
   "execution_count": 108,
   "id": "5faaf2cb",
   "metadata": {},
   "outputs": [
    {
     "name": "stdout",
     "output_type": "stream",
     "text": [
      "1/1 [==============================] - 0s 224ms/step\n",
      "Predicted class: Bhairavi\n"
     ]
    }
   ],
   "source": [
    "predict_class(model, audio_to_predict, label_encoder)"
   ]
  },
  {
   "cell_type": "code",
   "execution_count": null,
   "id": "c699fbf2",
   "metadata": {},
   "outputs": [],
   "source": []
  }
 ],
 "metadata": {
  "kernelspec": {
   "display_name": "Python 3 (ipykernel)",
   "language": "python",
   "name": "python3"
  },
  "language_info": {
   "codemirror_mode": {
    "name": "ipython",
    "version": 3
   },
   "file_extension": ".py",
   "mimetype": "text/x-python",
   "name": "python",
   "nbconvert_exporter": "python",
   "pygments_lexer": "ipython3",
   "version": "3.10.9"
  }
 },
 "nbformat": 4,
 "nbformat_minor": 5
}
